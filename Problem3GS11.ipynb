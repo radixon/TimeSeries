{
 "cells": [
  {
   "cell_type": "markdown",
   "id": "83f9dd49",
   "metadata": {},
   "source": [
    "Consider the following system of ordinary differential equations:\n",
    "\n",
    "dA/dt = -a*A(t)\n",
    "dB/dt = a*A(t)-b*B(t)\n",
    "dC/dt = b*B(t)\n",
    "\n",
    "with initial conditions A(0) = 1, B(0) = 0, and C(0) = 0 and where a and b are positive constants.\n",
    "\n",
    "This can be thought of as a system where a collection of people start in state A, flow to state B at a given per-capita rate a per day, and flow from state B to C at the per-capita rate b per day.\n"
   ]
  },
  {
   "cell_type": "markdown",
   "id": "bf335244",
   "metadata": {},
   "source": [
    "## 1. \tWrite a function that takes as an input the parameters a and b and returns the time series of the solution to the equations above for the state B at times 0.0, 1.0, 2.0, … 100.0 (i.e. in unit time increments of 1.0 from 0.0 to 100.0). "
   ]
  },
  {
   "cell_type": "code",
   "execution_count": 1,
   "id": "347c0d82",
   "metadata": {},
   "outputs": [],
   "source": [
    "# Import Libraries\n",
    "\n",
    "import numpy as np\n",
    "import pandas as pd\n",
    "import matplotlib.pyplot as plt\n",
    "from scipy.integrate import odeint,solve_ivp\n",
    "from scipy.optimize import minimize"
   ]
  },
  {
   "cell_type": "code",
   "execution_count": 2,
   "id": "29ada15a",
   "metadata": {},
   "outputs": [],
   "source": [
    "def ivp(state,t,a,b):\n",
    "    \"\"\"\n",
    "    System of ODEs\n",
    "    \n",
    "    Parameters:\n",
    "    t -> time increments\n",
    "    couple -> initial conditions\n",
    "    a, b -> input parameters\n",
    "    \"\"\"    \n",
    "    # Ordinary Differential Equations\n",
    "    dAdt = -a*state[0]\n",
    "    dBdt = a*state[0] - b*state[1]\n",
    "    dCdt = b*state[1]\n",
    "    \n",
    "    # Return the ODEs output\n",
    "    return np.array([dAdt, dBdt,dCdt])"
   ]
  },
  {
   "cell_type": "code",
   "execution_count": 3,
   "id": "93ba84ae",
   "metadata": {},
   "outputs": [],
   "source": [
    "# Input variables, initial conditions, for the function coupled_ode\n",
    "A0 = 1\n",
    "B0 = 0\n",
    "C0 = 0\n",
    "a, b = 0.25, 0.15\n",
    "state0 = [A0,B0,C0]\n",
    "increm = np.linspace(0,1,100)"
   ]
  },
  {
   "cell_type": "code",
   "execution_count": 4,
   "id": "c4e2d32d",
   "metadata": {},
   "outputs": [],
   "source": [
    "# Evaluate the ODEs at the time increments\n",
    "res = odeint(ivp,state0 ,increm, args=(a,b))\n",
    "state_B = res.T[1]"
   ]
  },
  {
   "cell_type": "code",
   "execution_count": 5,
   "id": "91c0f892",
   "metadata": {},
   "outputs": [
    {
     "data": {
      "image/png": "[encoded data removed]",
      "text/plain": [
       "<Figure size 432x288 with 1 Axes>"
      ]
     },
     "metadata": {
      "needs_background": "light"
     },
     "output_type": "display_data"
    }
   ],
   "source": [
    "plt.semilogy(increm,res.T[0],label=\"State A\")\n",
    "plt.semilogy(increm,res.T[1], label=\"State B\")\n",
    "plt.semilogy(increm,res.T[2], label=\"State C\")\n",
    "plt.legend()\n",
    "plt.show()"
   ]
  },
  {
   "cell_type": "markdown",
   "id": "ae4d5b6b",
   "metadata": {},
   "source": [
    "## 2. Using the same language as above, read in the observations from the “ode_fitting_data.csv” file for the compartment B. Write a function that takes as an input a time series of values for B at times 0.0, 1.0, … 100.0 and returns the sum of squares of the differences in the values\n"
   ]
  },
  {
   "cell_type": "code",
   "execution_count": 6,
   "id": "e3757ff2",
   "metadata": {},
   "outputs": [
    {
     "data": {
      "text/html": [
       "<div>\n",
       "<style scoped>\n",
       "    .dataframe tbody tr th:only-of-type {\n",
       "        vertical-align: middle;\n",
       "    }\n",
       "\n",
       "    .dataframe tbody tr th {\n",
       "        vertical-align: top;\n",
       "    }\n",
       "\n",
       "    .dataframe thead th {\n",
       "        text-align: right;\n",
       "    }\n",
       "</style>\n",
       "<table border=\"1\" class=\"dataframe\">\n",
       "  <thead>\n",
       "    <tr style=\"text-align: right;\">\n",
       "      <th></th>\n",
       "      <th>time</th>\n",
       "      <th>B_obs</th>\n",
       "    </tr>\n",
       "  </thead>\n",
       "  <tbody>\n",
       "    <tr>\n",
       "      <th>0</th>\n",
       "      <td>0</td>\n",
       "      <td>0.001517</td>\n",
       "    </tr>\n",
       "    <tr>\n",
       "      <th>1</th>\n",
       "      <td>1</td>\n",
       "      <td>0.042594</td>\n",
       "    </tr>\n",
       "    <tr>\n",
       "      <th>2</th>\n",
       "      <td>2</td>\n",
       "      <td>0.092344</td>\n",
       "    </tr>\n",
       "    <tr>\n",
       "      <th>3</th>\n",
       "      <td>3</td>\n",
       "      <td>0.124060</td>\n",
       "    </tr>\n",
       "    <tr>\n",
       "      <th>4</th>\n",
       "      <td>4</td>\n",
       "      <td>0.159859</td>\n",
       "    </tr>\n",
       "    <tr>\n",
       "      <th>5</th>\n",
       "      <td>5</td>\n",
       "      <td>0.177095</td>\n",
       "    </tr>\n",
       "    <tr>\n",
       "      <th>6</th>\n",
       "      <td>6</td>\n",
       "      <td>0.183038</td>\n",
       "    </tr>\n",
       "    <tr>\n",
       "      <th>7</th>\n",
       "      <td>7</td>\n",
       "      <td>0.206611</td>\n",
       "    </tr>\n",
       "    <tr>\n",
       "      <th>8</th>\n",
       "      <td>8</td>\n",
       "      <td>0.234267</td>\n",
       "    </tr>\n",
       "    <tr>\n",
       "      <th>9</th>\n",
       "      <td>9</td>\n",
       "      <td>0.243497</td>\n",
       "    </tr>\n",
       "  </tbody>\n",
       "</table>\n",
       "</div>"
      ],
      "text/plain": [
       "   time     B_obs\n",
       "0     0  0.001517\n",
       "1     1  0.042594\n",
       "2     2  0.092344\n",
       "3     3  0.124060\n",
       "4     4  0.159859\n",
       "5     5  0.177095\n",
       "6     6  0.183038\n",
       "7     7  0.206611\n",
       "8     8  0.234267\n",
       "9     9  0.243497"
      ]
     },
     "execution_count": 6,
     "metadata": {},
     "output_type": "execute_result"
    }
   ],
   "source": [
    "ode_df = pd.read_csv('ode_fitting_data.csv')\n",
    "ode_df.head(10)"
   ]
  },
  {
   "cell_type": "code",
   "execution_count": 7,
   "id": "28a8272d",
   "metadata": {},
   "outputs": [],
   "source": [
    "observed_B = ode_df.loc[1:,\"B_obs\"]"
   ]
  },
  {
   "cell_type": "code",
   "execution_count": 8,
   "id": "0f1ea66d",
   "metadata": {},
   "outputs": [],
   "source": [
    "def sse(arr):\n",
    "    \"\"\"\n",
    "    Calculated \n",
    "    pred:  values calculated used odeint\n",
    "    observed:  values from ode_fitting_data.csv\n",
    "    errorSum:  Predicted Values - Observed Values\n",
    "    errorSumSquared: (Predicted Values - Observed Values) ** 2\n",
    "    np.sum(errorSumSquared):  The sum of squared errors\n",
    "    \"\"\"\n",
    "    pred = arr[0]\n",
    "    observed = arr[1]\n",
    "    errorSum = arr[0] - arr[1]\n",
    "    errorSumSquared = errorSum**2\n",
    "    return np.sum(errorSumSquared)"
   ]
  },
  {
   "cell_type": "code",
   "execution_count": 9,
   "id": "de5b4906",
   "metadata": {},
   "outputs": [],
   "source": [
    "arr = [state_B,observed_B]"
   ]
  },
  {
   "cell_type": "code",
   "execution_count": 10,
   "id": "314ebfb7",
   "metadata": {},
   "outputs": [
    {
     "name": "stdout",
     "output_type": "stream",
     "text": [
      "Sum of Squares:  1.990061719445149\n"
     ]
    }
   ],
   "source": [
    "squaredError = sse(arr)\n",
    "print(\"Sum of Squares: \",squaredError)"
   ]
  },
  {
   "cell_type": "markdown",
   "id": "93a69ce4",
   "metadata": {},
   "source": [
    "## \t3. Using the same coding language as above and the solutions to parts 1 and 2, find the values of the parameters a and b that minimize the squared error difference between the observations in the “ode_fitting_data.csv” file and the time series of values of B for the corresponding solution to the ODE. \n"
   ]
  },
  {
   "cell_type": "code",
   "execution_count": 11,
   "id": "b3666559",
   "metadata": {},
   "outputs": [],
   "source": [
    "def func(x):\n",
    "    state0 = [A0,B0,C0]\n",
    "    increm = np.linspace(0,1,100)\n",
    "    a, b = x[0], x[1]\n",
    "    res = odeint(ivp,state0 ,increm, args=(a,b))\n",
    "    pred = res.T[1]\n",
    "    arr = [pred,observed_B]\n",
    "    return sse(arr)"
   ]
  },
  {
   "cell_type": "code",
   "execution_count": 12,
   "id": "00b0de81",
   "metadata": {},
   "outputs": [
    {
     "data": {
      "text/plain": [
       "1.990061719445149"
      ]
     },
     "execution_count": 12,
     "metadata": {},
     "output_type": "execute_result"
    }
   ],
   "source": [
    "x = np.array([0.25,0.15])\n",
    "func(x)"
   ]
  },
  {
   "cell_type": "code",
   "execution_count": 13,
   "id": "1840578d",
   "metadata": {},
   "outputs": [],
   "source": [
    "res = minimize(func,x,method='BFGS')"
   ]
  },
  {
   "cell_type": "code",
   "execution_count": 14,
   "id": "706fce4d",
   "metadata": {},
   "outputs": [
    {
     "data": {
      "text/plain": [
       "      fun: 0.010324238628559052\n",
       " hess_inv: array([[27.58682053,  7.49239706],\n",
       "       [ 7.49239706, 35.07103033]])\n",
       "      jac: array([-3.97651456e-06,  2.96579674e-06])\n",
       "  message: 'Optimization terminated successfully.'\n",
       "     nfev: 84\n",
       "      nit: 21\n",
       "     njev: 28\n",
       "   status: 0\n",
       "  success: True\n",
       "        x: array([ 5.34923615, 10.12944074])"
      ]
     },
     "execution_count": 14,
     "metadata": {},
     "output_type": "execute_result"
    }
   ],
   "source": [
    "res"
   ]
  },
  {
   "cell_type": "code",
   "execution_count": 18,
   "id": "5505ddd8",
   "metadata": {},
   "outputs": [
    {
     "data": {
      "text/plain": [
       "0.010324238628583903"
      ]
     },
     "execution_count": 18,
     "metadata": {},
     "output_type": "execute_result"
    }
   ],
   "source": [
    "x = np.array([5.34923615, 10.12944074])\n",
    "func(x)"
   ]
  },
  {
   "cell_type": "code",
   "execution_count": null,
   "id": "cb88712a",
   "metadata": {},
   "outputs": [],
   "source": []
  }
 ],
 "metadata": {
  "kernelspec": {
   "display_name": "Python 3 (ipykernel)",
   "language": "python",
   "name": "python3"
  },
  "language_info": {
   "codemirror_mode": {
    "name": "ipython",
    "version": 3
   },
   "file_extension": ".py",
   "mimetype": "text/x-python",
   "name": "python",
   "nbconvert_exporter": "python",
   "pygments_lexer": "ipython3",
   "version": "3.9.12"
  }
 },
 "nbformat": 4,
 "nbformat_minor": 5
}
