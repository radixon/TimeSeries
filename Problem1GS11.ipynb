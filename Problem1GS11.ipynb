{
 "cells": [
  {
   "cell_type": "markdown",
   "id": "d2b67841",
   "metadata": {},
   "source": [
    "Problem 1\n",
    "\n",
    "Consider a ‘random walk’ on the integers that starts from 0 and increases by 1 or -1 with each step with equal probability. Formally, X(i) is a random process with time steps i  = 0, 1, 2, … \n",
    "where X(0)=0 and P(X(i+1) = X(i)+1) = P(X(i+1) = X(i)-1) = 0.5."
   ]
  },
  {
   "cell_type": "markdown",
   "id": "a40f0dce",
   "metadata": {},
   "source": [
    "## 1. Write a function in R or Python that simulates this random walk"
   ]
  },
  {
   "cell_type": "code",
   "execution_count": 1,
   "id": "1d5cc5d7",
   "metadata": {},
   "outputs": [],
   "source": [
    "def randomWalk(start):\n",
    "    import random\n",
    "\n",
    "    # Use seed for reproducible example\n",
    "    random.seed(404)\n",
    "\n",
    "    # Probability is 1/2 as there are only two choices.  \n",
    "    # The choice will determine the direction of the step\n",
    "    step = ['Positive','Negative']\n",
    "\n",
    "    # Random walk steps will be stored in the variable walk\n",
    "    walk = [start]\n",
    "    for i in range(1,15):\n",
    "        # Random Selection\n",
    "        ran_selection = random.choice(step)\n",
    "        print(\"Selection: \",ran_selection)\n",
    "\n",
    "        # If random step is positive, append 1\n",
    "        if ran_selection == 'Positive':\n",
    "            walk.append(1)\n",
    "        # If random step is negative, append -1\n",
    "        else:\n",
    "            walk.append(-1)\n",
    "    return walk"
   ]
  },
  {
   "cell_type": "code",
   "execution_count": 2,
   "id": "bde226d3",
   "metadata": {},
   "outputs": [
    {
     "name": "stdout",
     "output_type": "stream",
     "text": [
      "Selection:  Positive\n",
      "Selection:  Negative\n",
      "Selection:  Positive\n",
      "Selection:  Positive\n",
      "Selection:  Positive\n",
      "Selection:  Negative\n",
      "Selection:  Positive\n",
      "Selection:  Negative\n",
      "Selection:  Positive\n",
      "Selection:  Positive\n",
      "Selection:  Negative\n",
      "Selection:  Positive\n",
      "Selection:  Positive\n",
      "Selection:  Positive\n",
      "Steps:  [0, 1, -1, 1, 1, 1, -1, 1, -1, 1, 1, -1, 1, 1, 1]\n",
      "Final Location on X-axis:  6\n"
     ]
    }
   ],
   "source": [
    "walk = randomWalk(0)\n",
    "print(\"Steps: \", walk)\n",
    "print(\"Final Location on X-axis: \", sum(walk))"
   ]
  },
  {
   "cell_type": "markdown",
   "id": "110f16fe",
   "metadata": {},
   "source": [
    "## 2. Use the simulation from part 1 to estimate the probability that the random walk reaches the value 10 before it reaches the value -5\n",
    "\n",
    "Absorbing Markov Chain"
   ]
  },
  {
   "cell_type": "code",
   "execution_count": 3,
   "id": "68c52ca4",
   "metadata": {},
   "outputs": [],
   "source": [
    "def goalProb(low,high,state=1):\n",
    "    \"\"\"\n",
    "    Inputs:\n",
    "    low -> represents the low end of the Aborbing Markov Chain\n",
    "    high -> represents the high end of the Absorbing Markov Chain\n",
    "    state -> represents the location of the starting position of the Absorbing Markov Chain\n",
    "    \"\"\"\n",
    "    import numpy as np\n",
    "    # If the inputs for low and high are reversed, switch the values\n",
    "    if low > high:\n",
    "        low, high = high, low\n",
    "    \n",
    "    # If the low end of the Aborbing Markov Chain is a positive number\n",
    "    if low > 0:\n",
    "        high -= low\n",
    "        state -= low\n",
    "        return np.abs(state/high)\n",
    "    \n",
    "    # If the low end of the Aborbing Markov Chain is a negative number\n",
    "    elif low < 0:\n",
    "        low = np.abs(low)\n",
    "        high += low\n",
    "        state += low\n",
    "        return state/high\n",
    "    \n",
    "    # If the low end of the Aborbing Markov Chain is zero\n",
    "    else:\n",
    "        return state/high"
   ]
  },
  {
   "cell_type": "code",
   "execution_count": 4,
   "id": "14a02469",
   "metadata": {},
   "outputs": [],
   "source": [
    "state = sum(walk)\n",
    "prob10_b4_n5 = goalProb(-5,10,state)"
   ]
  },
  {
   "cell_type": "code",
   "execution_count": 5,
   "id": "3d4d2fa7",
   "metadata": {},
   "outputs": [
    {
     "name": "stdout",
     "output_type": "stream",
     "text": [
      "Probability of Reaching 10 before -5:  0.7333333333333333\n"
     ]
    }
   ],
   "source": [
    "print(\"Probability of Reaching 10 before -5: \",prob10_b4_n5)"
   ]
  },
  {
   "cell_type": "code",
   "execution_count": 6,
   "id": "138fcd8f",
   "metadata": {},
   "outputs": [
    {
     "name": "stdout",
     "output_type": "stream",
     "text": [
      "Probability of Reaching -5 before 10:  0.2666666666666667\n"
     ]
    }
   ],
   "source": [
    "print(\"Probability of Reaching -5 before 10: \",1 - prob10_b4_n5)"
   ]
  },
  {
   "cell_type": "markdown",
   "id": "74b89a7b",
   "metadata": {},
   "source": [
    "## Bonus: For any positive integer a and negative integer b, what is the probability the random walk reaches the value a before it reaches b?"
   ]
  },
  {
   "cell_type": "markdown",
   "id": "3c3bdffc",
   "metadata": {},
   "source": [
    "Given 'State' is the starting point of the Markov Chain.  The probability that the random walk reaches the value a before it reaches b is:\n",
    "\n",
    "(state - negative b) / (positive a - negative b)"
   ]
  },
  {
   "cell_type": "code",
   "execution_count": 7,
   "id": "6be62c41",
   "metadata": {},
   "outputs": [
    {
     "name": "stdout",
     "output_type": "stream",
     "text": [
      "Probability of Reaching 1368 before -325 from  600\n",
      "0.5463673951565269\n",
      "\n",
      "Probability of Reaching 385 before -322 from  189\n",
      "0.7227722772277227\n",
      "\n",
      "Probability of Reaching 1459 before -856 from  940\n",
      "0.7758099352051836\n",
      "\n",
      "Probability of Reaching 446 before -252 from  136\n",
      "0.5558739255014327\n",
      "\n",
      "Probability of Reaching 1037 before -582 from  763\n",
      "0.8307597282273008\n",
      "\n",
      "Probability of Reaching 331 before -431 from  47\n",
      "0.6272965879265092\n",
      "\n",
      "Probability of Reaching 1793 before -653 from  957\n",
      "0.6582174979558463\n",
      "\n",
      "Probability of Reaching 1166 before -88 from  560\n",
      "0.5167464114832536\n",
      "\n",
      "Probability of Reaching 131 before -787 from  77\n",
      "0.9411764705882353\n",
      "\n",
      "Probability of Reaching 533 before -722 from  97\n",
      "0.6525896414342629\n",
      "\n",
      "Probability of Reaching 1221 before -549 from  781\n",
      "0.751412429378531\n",
      "\n",
      "Probability of Reaching 728 before -384 from  167\n",
      "0.49550359712230213\n",
      "\n",
      "Probability of Reaching 1269 before -119 from  872\n",
      "0.7139769452449568\n",
      "\n",
      "Probability of Reaching 1319 before -888 from  520\n",
      "0.6379700951517897\n",
      "\n",
      "Probability of Reaching 1570 before -781 from  850\n",
      "0.6937473415567843\n",
      "\n"
     ]
    }
   ],
   "source": [
    "import random\n",
    "for i in range(15):\n",
    "    \"\"\"\n",
    "    Fifteen examples of the bonus question\n",
    "    \"\"\"\n",
    "    # Random number between -1000 and -1\n",
    "    b = random.randint(-1000,0)\n",
    "    \n",
    "    # Random number between 1 and 999\n",
    "    state = random.randint(1,1000)\n",
    "    \n",
    "    # Random number between the state + (1 to 1000)\n",
    "    a = random.randint(state+1,state+1000)\n",
    "    \n",
    "    \n",
    "    print(\"Probability of Reaching\",a,\"before\",b,\"from \",state)\n",
    "    print(goalProb(b,a,state))\n",
    "    print()"
   ]
  }
 ],
 "metadata": {
  "kernelspec": {
   "display_name": "Python 3 (ipykernel)",
   "language": "python",
   "name": "python3"
  },
  "language_info": {
   "codemirror_mode": {
    "name": "ipython",
    "version": 3
   },
   "file_extension": ".py",
   "mimetype": "text/x-python",
   "name": "python",
   "nbconvert_exporter": "python",
   "pygments_lexer": "ipython3",
   "version": "3.9.12"
  }
 },
 "nbformat": 4,
 "nbformat_minor": 5
}
